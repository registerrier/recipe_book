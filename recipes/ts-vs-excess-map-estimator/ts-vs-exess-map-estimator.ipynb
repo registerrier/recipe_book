{
 "cells": [
  {
   "cell_type": "markdown",
   "id": "b5744506",
   "metadata": {},
   "source": [
    "#  TSMapEstimator vs. ExcessMapEstimator\n",
    "\n",
    "This notebooks compares the results of the full likelihood fitting approach (\"forward folding\") against the Li&Ma solution of the same problem (\"backwards folding\"). The results are expected to be approximately equivalent in case of using a disk kernel for the `TSMapEstimator` and neclecting the effect of the PSF.\n",
    "\n",
    "The remaining difference is that while the `ExcessMapEstimator` sums all counts and computes flux based on the mean exposure in the same region, the `TSMapEstimator` takes into account the full pixel by pixel information.\n",
    "\n",
    "Results:\n",
    "- The results are indeed approximately equivalent \n",
    "- On average the `TSMapEstimator` find slightly higher errors because it takes into account the fluctuations per pixel\n",
    "- The `ExcessMapEstimator` is faster by a factor of 50-100 for ordinary flux and error estimation. Once assymetric errors and ULs are computed the `TSMapEstimator` shows the better performance and is ~2-3 times faster. When taking multiprocessing into account it is even faster by a factor of ~10."
   ]
  },
  {
   "cell_type": "code",
   "execution_count": null,
   "id": "02c747db",
   "metadata": {},
   "outputs": [],
   "source": [
    "from gammapy.estimators import ExcessMapEstimator, TSMapEstimator\n",
    "from gammapy.datasets import MapDataset\n",
    "from gammapy.modeling.models import (\n",
    "    SkyModel,\n",
    "    PowerLawNormSpectralModel,\n",
    "    PowerLawSpectralModel,\n",
    "    DiskSpatialModel,\n",
    ")\n",
    "import numpy as np\n",
    "from astropy import units as u\n",
    "import matplotlib.pyplot as plt"
   ]
  },
  {
   "cell_type": "code",
   "execution_count": null,
   "id": "4b2ae44c",
   "metadata": {},
   "outputs": [],
   "source": [
    "dataset = MapDataset.read(\n",
    "    \"$GAMMAPY_DATA/cta-1dc-gc/cta-1dc-gc.fits.gz\", name=\"cta_dataset\"\n",
    ")\n",
    "dataset.psf = None"
   ]
  },
  {
   "cell_type": "code",
   "execution_count": null,
   "id": "e7d71719",
   "metadata": {},
   "outputs": [],
   "source": [
    "est = ExcessMapEstimator(\n",
    "    correlation_radius=\"0.1 deg\",\n",
    ")\n",
    "\n",
    "model = SkyModel(\n",
    "    spectral_model=PowerLawSpectralModel(),\n",
    "    spatial_model=DiskSpatialModel(r_0=\"0.1 deg\"),\n",
    ")\n",
    "\n",
    "ts_est = TSMapEstimator(\n",
    "    model=model,\n",
    "    sum_over_energy_groups=True,\n",
    ")"
   ]
  },
  {
   "cell_type": "code",
   "execution_count": null,
   "id": "cbe55336",
   "metadata": {},
   "outputs": [],
   "source": [
    "est_all = ExcessMapEstimator(\n",
    "    correlation_radius=\"0.1 deg\", selection_optional=\"all\"\n",
    ")\n",
    "\n",
    "\n",
    "ts_est_all = TSMapEstimator(\n",
    "    model=model,\n",
    "    sum_over_energy_groups=True,\n",
    "    selection_optional=\"all\",\n",
    "    n_jobs=8,\n",
    ")"
   ]
  },
  {
   "cell_type": "code",
   "execution_count": null,
   "id": "4aeb4927",
   "metadata": {},
   "outputs": [],
   "source": [
    "%%time\n",
    "result = est.run(dataset=dataset)"
   ]
  },
  {
   "cell_type": "code",
   "execution_count": null,
   "id": "0b1b7278",
   "metadata": {},
   "outputs": [],
   "source": [
    "%%time\n",
    "result_ts = ts_est.run(dataset)"
   ]
  },
  {
   "cell_type": "code",
   "execution_count": null,
   "id": "96174966",
   "metadata": {},
   "outputs": [],
   "source": [
    "%%time\n",
    "result = est_all.run(dataset=dataset)"
   ]
  },
  {
   "cell_type": "code",
   "execution_count": null,
   "id": "933b4927",
   "metadata": {},
   "outputs": [],
   "source": [
    "%%time\n",
    "result_ts = ts_est_all.run(dataset)"
   ]
  },
  {
   "cell_type": "code",
   "execution_count": null,
   "id": "eb82447e",
   "metadata": {},
   "outputs": [],
   "source": [
    "def plot_side_by_side(m_1, m_2, **kwargs):\n",
    "    fig = plt.figure(figsize=(14, 12))\n",
    "    ax1 = plt.subplot(221, projection=m_1.geom.wcs)\n",
    "    ax2 = plt.subplot(222, projection=m_1.geom.wcs)\n",
    "    ax3 = plt.subplot(223, projection=m_1.geom.wcs)\n",
    "    ax4 = plt.subplot(224)\n",
    "\n",
    "    m_1.plot(ax1, **kwargs)\n",
    "    ax1.set_title(\"ExcessMapEstimator\")\n",
    "\n",
    "    m_2.plot(ax2, **kwargs)\n",
    "    ax2.set_title(\"TSMapEstimator\")\n",
    "\n",
    "    ax4.scatter(m_1.data.flat, m_2.data.flat, s=2, alpha=0.05)\n",
    "    ax4.set_title(\"Correlation\")\n",
    "    ax4.set_xlabel(\"ExcessMapEstimator\")\n",
    "    ax4.set_ylabel(\"TSMapEstimator\")\n",
    "    ax4.set_xlim(kwargs[\"vmin\"], kwargs[\"vmax\"])\n",
    "    ax4.set_ylim(kwargs[\"vmin\"], kwargs[\"vmax\"])\n",
    "    x = np.linspace(kwargs[\"vmin\"], kwargs[\"vmax\"], 3)\n",
    "    ax4.plot(x, x, color=\"k\")\n",
    "    ax4.set_aspect(\"equal\")\n",
    "\n",
    "    diff = m_1 - m_2\n",
    "    vmax = -0.1 * kwargs[\"vmax\"]\n",
    "    diff.plot(\n",
    "        ax=ax3,\n",
    "        cmap=\"RdBu\",\n",
    "        stretch=\"linear\",\n",
    "        add_cbar=True,\n",
    "        vmin=-vmax,\n",
    "        vmax=vmax,\n",
    "    )\n",
    "    ax3.set_title(\"Difference (ExcessMap - TSMap)\")"
   ]
  },
  {
   "cell_type": "markdown",
   "id": "a4ed3e59",
   "metadata": {},
   "source": [
    "## Flux"
   ]
  },
  {
   "cell_type": "code",
   "execution_count": null,
   "id": "18ac7a93",
   "metadata": {
    "tags": [
     "nbsphinx-thumbnail"
    ]
   },
   "outputs": [],
   "source": [
    "plot_side_by_side(\n",
    "    result.flux, result_ts.flux, add_cbar=True, vmin=-0.3e-11, vmax=2e-11\n",
    ");"
   ]
  },
  {
   "cell_type": "markdown",
   "id": "781fd464",
   "metadata": {},
   "source": [
    "## Flux Error"
   ]
  },
  {
   "cell_type": "code",
   "execution_count": null,
   "id": "0041223d",
   "metadata": {},
   "outputs": [],
   "source": [
    "plot_side_by_side(\n",
    "    result.flux_err,\n",
    "    result_ts.flux_err,\n",
    "    add_cbar=True,\n",
    "    vmin=0.5e-12,\n",
    "    vmax=2e-12,\n",
    ");"
   ]
  },
  {
   "cell_type": "markdown",
   "id": "60cbcc49",
   "metadata": {},
   "source": [
    "## Flux UL"
   ]
  },
  {
   "cell_type": "code",
   "execution_count": null,
   "id": "96964787",
   "metadata": {},
   "outputs": [],
   "source": [
    "plot_side_by_side(\n",
    "    result.flux_ul, result_ts.flux_ul, add_cbar=True, vmin=-0.3e-11, vmax=2e-11\n",
    ");"
   ]
  },
  {
   "cell_type": "markdown",
   "id": "f4450803",
   "metadata": {},
   "source": [
    "## Flux Error Pos."
   ]
  },
  {
   "cell_type": "code",
   "execution_count": null,
   "id": "d772cba5",
   "metadata": {},
   "outputs": [],
   "source": [
    "plot_side_by_side(\n",
    "    result.flux_errp,\n",
    "    result_ts.flux_errp,\n",
    "    add_cbar=True,\n",
    "    vmin=0.5e-12,\n",
    "    vmax=2e-12,\n",
    ");"
   ]
  },
  {
   "cell_type": "markdown",
   "id": "722f0ead",
   "metadata": {},
   "source": [
    "## Flux Error Neg."
   ]
  },
  {
   "cell_type": "code",
   "execution_count": null,
   "id": "2857a6d4",
   "metadata": {},
   "outputs": [],
   "source": [
    "# result._data[\"norm_errn\"].data *= -1\n",
    "\n",
    "plot_side_by_side(\n",
    "    result.flux_errn,\n",
    "    result_ts.flux_errn,\n",
    "    add_cbar=True,\n",
    "    vmin=0.4e-12,\n",
    "    vmax=2e-12,\n",
    ");"
   ]
  },
  {
   "cell_type": "markdown",
   "id": "6ee4abff",
   "metadata": {},
   "source": [
    "## Sqrt(TS)"
   ]
  },
  {
   "cell_type": "code",
   "execution_count": null,
   "id": "cdf612a0",
   "metadata": {},
   "outputs": [],
   "source": [
    "plot_side_by_side(\n",
    "    result.sqrt_ts,\n",
    "    result_ts.sqrt_ts,\n",
    "    add_cbar=True,\n",
    "    vmin=-5,\n",
    "    vmax=20,\n",
    "    stretch=\"linear\",\n",
    ");"
   ]
  },
  {
   "cell_type": "markdown",
   "id": "fc2c9d39",
   "metadata": {},
   "source": [
    "## NPred Excess"
   ]
  },
  {
   "cell_type": "code",
   "execution_count": null,
   "id": "a65154a7",
   "metadata": {},
   "outputs": [],
   "source": [
    "plot_side_by_side(\n",
    "    result.npred_excess,\n",
    "    result_ts.npred_excess,\n",
    "    add_cbar=True,\n",
    "    vmin=-40,\n",
    "    vmax=500,\n",
    "    stretch=\"sqrt\",\n",
    ");"
   ]
  },
  {
   "cell_type": "markdown",
   "metadata": {},
   "source": [
    "## NPred Ref."
   ]
  },
  {
   "cell_type": "code",
   "execution_count": null,
   "metadata": {},
   "outputs": [],
   "source": [
    "plot_side_by_side(\n",
    "    result.npred_excess_ref,\n",
    "    result_ts.npred_excess_ref,\n",
    "    add_cbar=True,\n",
    "    vmin=0,\n",
    "    vmax=500,\n",
    ");"
   ]
  },
  {
   "cell_type": "markdown",
   "metadata": {},
   "source": [
    "## NPred Err"
   ]
  },
  {
   "cell_type": "code",
   "execution_count": null,
   "metadata": {},
   "outputs": [],
   "source": [
    "plot_side_by_side(\n",
    "    result.npred_excess_err,\n",
    "    result_ts.npred_excess_err,\n",
    "    add_cbar=True,\n",
    "    vmin=0,\n",
    "    vmax=30,\n",
    ");"
   ]
  },
  {
   "cell_type": "markdown",
   "metadata": {},
   "source": [
    "## NPred Error Pos."
   ]
  },
  {
   "cell_type": "code",
   "execution_count": null,
   "metadata": {},
   "outputs": [],
   "source": [
    "plot_side_by_side(\n",
    "    result.npred_excess_errp,\n",
    "    result_ts.npred_excess_errp,\n",
    "    add_cbar=True,\n",
    "    vmin=0,\n",
    "    vmax=30,\n",
    ");"
   ]
  },
  {
   "cell_type": "markdown",
   "metadata": {},
   "source": [
    "## NPred Error Neg."
   ]
  },
  {
   "cell_type": "code",
   "execution_count": null,
   "metadata": {},
   "outputs": [],
   "source": [
    "plot_side_by_side(\n",
    "    result.npred_excess_errn,\n",
    "    result_ts.npred_excess_errn,\n",
    "    add_cbar=True,\n",
    "    vmin=0,\n",
    "    vmax=30,\n",
    ");"
   ]
  },
  {
   "cell_type": "markdown",
   "metadata": {},
   "source": [
    "## NPred UL"
   ]
  },
  {
   "cell_type": "code",
   "execution_count": null,
   "metadata": {},
   "outputs": [],
   "source": [
    "plot_side_by_side(\n",
    "    result.npred_excess_ul,\n",
    "    result_ts.npred_excess_ul,\n",
    "    add_cbar=True,\n",
    "    vmin=-30,\n",
    "    vmax=500,\n",
    "    stretch=\"sqrt\",\n",
    ");"
   ]
  }
 ],
 "metadata": {
  "kernelspec": {
   "display_name": "Python 3 (ipykernel)",
   "language": "python",
   "name": "python3"
  },
  "language_info": {
   "codemirror_mode": {
    "name": "ipython",
    "version": 3
   },
   "file_extension": ".py",
   "mimetype": "text/x-python",
   "name": "python",
   "nbconvert_exporter": "python",
   "pygments_lexer": "ipython3",
   "version": "3.9.0"
  }
 },
 "nbformat": 4,
 "nbformat_minor": 5
}
